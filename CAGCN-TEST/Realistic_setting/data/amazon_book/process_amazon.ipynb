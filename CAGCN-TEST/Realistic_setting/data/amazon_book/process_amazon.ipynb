{
 "cells": [
  {
   "cell_type": "code",
   "execution_count": 1,
   "id": "a426f6fb",
   "metadata": {},
   "outputs": [
    {
     "name": "stderr",
     "output_type": "stream",
     "text": [
      "/home/yu/.local/lib/python3.8/site-packages/tqdm/auto.py:22: TqdmWarning: IProgress not found. Please update jupyter and ipywidgets. See https://ipywidgets.readthedocs.io/en/stable/user_install.html\n",
      "  from .autonotebook import tqdm as notebook_tqdm\n"
     ]
    }
   ],
   "source": [
    "from itertools import islice\n",
    "import os\n",
    "from collections import defaultdict\n",
    "import seaborn as sns\n",
    "import numpy as np\n",
    "import torch\n",
    "import json\n",
    "import pandas as pd\n",
    "from datetime import datetime"
   ]
  },
  {
   "cell_type": "code",
   "execution_count": 2,
   "id": "f403fe3a",
   "metadata": {},
   "outputs": [],
   "source": [
    "def time_converter(time):\n",
    "    m, d, y = time.split(' ')\n",
    "    if m[0] == '0':\n",
    "        m = int(m[1])\n",
    "    else:\n",
    "        m = int(m)\n",
    "\n",
    "    d = d[:-1]\n",
    "    if d[0] == '0':\n",
    "        d = int(d[1])\n",
    "    else:\n",
    "        d = int(d)\n",
    "\n",
    "    y = int(y)\n",
    "\n",
    "    dtime = datetime(y, m, d)\n",
    "\n",
    "    return dtime.timestamp()"
   ]
  },
  {
   "cell_type": "code",
   "execution_count": 3,
   "id": "fb94f95e",
   "metadata": {},
   "outputs": [],
   "source": [
    "data_file = open(\"Books_5.json\")\n",
    "data = []\n",
    "\n",
    "user_id_map, item_id_map = {}, {}\n",
    "user_count, item_count = 0, 0\n",
    "\n",
    "stars = []\n",
    "\n",
    "for line in data_file:\n",
    "    sub_data = json.loads(line)\n",
    "#     print(sub_data)\n",
    "\n",
    "    user, item, star, time = sub_data['reviewerID'], sub_data['asin'], sub_data['overall'], sub_data['reviewTime']\n",
    "    \n",
    "    time = time_converter(time)\n",
    "    \n",
    "    if user not in user_id_map:\n",
    "        user_id_map[user] = user_count\n",
    "        user_count += 1\n",
    "\n",
    "    if item not in item_id_map:\n",
    "        item_id_map[item] = item_count\n",
    "        item_count += 1\n",
    "\n",
    "    data.append([time, user_id_map[user], item_id_map[item], star])\n",
    "    stars.append(star)\n",
    "\n"
   ]
  },
  {
   "cell_type": "code",
   "execution_count": 4,
   "id": "e350b481",
   "metadata": {},
   "outputs": [
    {
     "name": "stdout",
     "output_type": "stream",
     "text": [
      "[0. 1. 2. 3. 4. 5.]\n"
     ]
    }
   ],
   "source": [
    "#the original dataset is so large, using only the last 25% of data\n",
    "data = sorted(data)\n",
    "data = data[-int(0.25*len(data)):]\n",
    "\n",
    "#check the unique value of the star\n",
    "print(np.unique(np.array(stars)))"
   ]
  },
  {
   "cell_type": "code",
   "execution_count": 5,
   "id": "08f02e14",
   "metadata": {},
   "outputs": [],
   "source": [
    "new_data = [[time, user, business] for time, user, business, star in data if star >= 4]\n",
    "data = new_data"
   ]
  },
  {
   "cell_type": "code",
   "execution_count": 6,
   "id": "8b32bed9",
   "metadata": {},
   "outputs": [
    {
     "name": "stdout",
     "output_type": "stream",
     "text": [
      "5914699\n"
     ]
    }
   ],
   "source": [
    "print(len(data))"
   ]
  },
  {
   "cell_type": "code",
   "execution_count": 7,
   "id": "096471be",
   "metadata": {},
   "outputs": [
    {
     "name": "stdout",
     "output_type": "stream",
     "text": [
      "5914699 2525398\n",
      "2525398 2137030\n",
      "2137030 1992554\n",
      "1992554 1936857\n",
      "1936857 1906576\n",
      "1906576 1892303\n",
      "1892303 1883521\n",
      "1883521 1879064\n",
      "1879064 1876218\n",
      "1876218 1874642\n",
      "1874642 1873615\n",
      "1873615 1873062\n",
      "1873062 1872723\n",
      "1872723 1872525\n",
      "1872525 1872435\n",
      "1872435 1872373\n",
      "1872373 1872337\n",
      "1872337 1872310\n",
      "1872310 1872292\n",
      "1872292 1872274\n",
      "1872274 1872265\n",
      "1872265 1872247\n",
      "1872247 1872238\n",
      "1872238 1872238\n",
      "1872238 1872238\n",
      "1872238 1872238\n",
      "1872238 1872238\n",
      "1872238 1872238\n",
      "1872238 1872238\n",
      "1872238 1872238\n",
      "1872238\n"
     ]
    }
   ],
   "source": [
    "#calculate degree of each user and business, 10-core filtering iteratively\n",
    "k = 10\n",
    "iteration = 30\n",
    "\n",
    "while iteration > 0:\n",
    "    deg_dict_user, deg_dict_business = defaultdict(int), defaultdict(int)\n",
    "    user_set, business_set = set(), set()\n",
    "\n",
    "    for time, user, business in data:\n",
    "        deg_dict_user[user] += 1\n",
    "        deg_dict_business[business] += 1\n",
    "\n",
    "        if deg_dict_user[user] >= k:\n",
    "            user_set.add(user)\n",
    "\n",
    "        if deg_dict_business[business] >= k:\n",
    "            business_set.add(business) \n",
    "\n",
    "    #10-core filtering\n",
    "    filter_data = [[time, user, business] for time, user, business in data if user in user_set and business in business_set]\n",
    "    print(len(data), len(filter_data))\n",
    "    data = filter_data    \n",
    "    iteration -= 1\n",
    "\n",
    "print(len(data))"
   ]
  },
  {
   "cell_type": "code",
   "execution_count": 8,
   "id": "a50d3524",
   "metadata": {},
   "outputs": [],
   "source": [
    "user_dict, business_dict = {}, {}\n",
    "user_count, business_count = 0, 0\n",
    "new_data = []\n",
    "\n",
    "for time, user, business in data:\n",
    "    if user not in user_dict:\n",
    "        user_dict[user] = user_count\n",
    "        user_count += 1\n",
    "\n",
    "    if business not in business_dict:\n",
    "        business_dict[business] = business_count\n",
    "        business_count += 1\n",
    "\n",
    "    new_data.append([time, user_dict[user], business_dict[business]])\n",
    "\n",
    "data = new_data"
   ]
  },
  {
   "cell_type": "code",
   "execution_count": 9,
   "id": "81435112",
   "metadata": {},
   "outputs": [
    {
     "data": {
      "text/plain": [
       "1872238"
      ]
     },
     "execution_count": 9,
     "metadata": {},
     "output_type": "execute_result"
    }
   ],
   "source": [
    "len(data)"
   ]
  },
  {
   "cell_type": "code",
   "execution_count": 10,
   "id": "a0c044d4",
   "metadata": {},
   "outputs": [
    {
     "name": "stdout",
     "output_type": "stream",
     "text": [
      "(1446346, 2) (208271, 2) (217621, 2)\n"
     ]
    }
   ],
   "source": [
    "#For each user, split the edges into 8/1/1\n",
    "data = sorted(data)\n",
    "edge_dict_by_user = defaultdict(list)\n",
    "\n",
    "for time, user, business in data:\n",
    "    edge_dict_by_user[user].append(business)\n",
    "\n",
    "def split_train_val(edge_dict_by_user):\n",
    "    train, val, test = [[], []], [[], []], [[], []]\n",
    "\n",
    "    for user in edge_dict_by_user:\n",
    "        edges = edge_dict_by_user[user]\n",
    "        \n",
    "        test_edges = edges[-1*len(edges)//10:]\n",
    "        \n",
    "        train_val_edges = edges[:-1*len(edges)//10]\n",
    "        train_edges = train_val_edges[:8*len(train_val_edges)//9]\n",
    "        val_edges = train_val_edges[8*len(train_val_edges)//9:]\n",
    "            \n",
    "        train[0].extend([user]*len(train_edges))\n",
    "        train[1].extend(train_edges)\n",
    "        \n",
    "        val[0].extend([user]*len(val_edges))\n",
    "        val[1].extend(val_edges)\n",
    "        \n",
    "        test[0].extend([user]*len(test_edges))\n",
    "        test[1].extend(test_edges)\n",
    "    \n",
    "    return np.array(train, dtype = int).transpose(1, 0), np.array(val, dtype = int).transpose(1, 0), np.array(test, dtype = int).transpose(1, 0)\n",
    "\n",
    "train, val, test = split_train_val(edge_dict_by_user)\n",
    "print(train.shape, val.shape, test.shape)"
   ]
  },
  {
   "cell_type": "code",
   "execution_count": 11,
   "id": "85301869",
   "metadata": {},
   "outputs": [],
   "source": [
    "np.savetxt('./train.txt', train, fmt='%i')\n",
    "np.savetxt('./val.txt', val, fmt='%i')\n",
    "np.savetxt('./test.txt', test, fmt='%i')"
   ]
  },
  {
   "cell_type": "code",
   "execution_count": null,
   "id": "df468459",
   "metadata": {},
   "outputs": [],
   "source": []
  }
 ],
 "metadata": {
  "kernelspec": {
   "display_name": "Python 3 (ipykernel)",
   "language": "python",
   "name": "python3"
  },
  "language_info": {
   "codemirror_mode": {
    "name": "ipython",
    "version": 3
   },
   "file_extension": ".py",
   "mimetype": "text/x-python",
   "name": "python",
   "nbconvert_exporter": "python",
   "pygments_lexer": "ipython3",
   "version": "3.8.10"
  }
 },
 "nbformat": 4,
 "nbformat_minor": 5
}
