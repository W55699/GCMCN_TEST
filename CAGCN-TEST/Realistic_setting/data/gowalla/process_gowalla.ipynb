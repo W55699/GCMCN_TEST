{
 "cells": [
  {
   "cell_type": "code",
   "execution_count": 5,
   "id": "a426f6fb",
   "metadata": {},
   "outputs": [],
   "source": [
    "from itertools import islice\n",
    "import os\n",
    "from collections import defaultdict\n",
    "import seaborn as sns\n",
    "import numpy as np\n",
    "import torch"
   ]
  },
  {
   "cell_type": "code",
   "execution_count": 6,
   "id": "310b0c73",
   "metadata": {},
   "outputs": [],
   "source": [
    "np.random.seed(1)"
   ]
  },
  {
   "cell_type": "code",
   "execution_count": 7,
   "id": "ccad4880",
   "metadata": {
    "scrolled": true
   },
   "outputs": [],
   "source": [
    "f = open('gowalla.inter', 'r')\n",
    "f.readline()\n",
    "\n",
    "user_dict, item_dict = {}, {}\n",
    "user_count, item_count = 0, 0\n",
    "\n",
    "data = []\n",
    "edge_set = set()\n",
    "for i, l in enumerate(f):\n",
    "    if i != 0:\n",
    "        log = l.split('\\t')\n",
    "        \n",
    "        user = int(log[0])\n",
    "        item = int(log[1])\n",
    "        time = float(log[2])\n",
    "        \n",
    "        if user not in user_dict:\n",
    "            user_dict[user] = user_count\n",
    "            user_count += 1\n",
    "        \n",
    "        if item not in item_dict:\n",
    "            item_dict[item] = item_count\n",
    "            item_count += 1\n",
    "        \n",
    "        if (user_dict[user], item_dict[item]) not in edge_set:\n",
    "            data.append([time, user_dict[user], item_dict[item]])\n",
    "            edge_set.add((user_dict[user], item_dict[item]))"
   ]
  },
  {
   "cell_type": "code",
   "execution_count": 8,
   "id": "df468459",
   "metadata": {},
   "outputs": [
    {
     "name": "stdout",
     "output_type": "stream",
     "text": [
      "3981333\n"
     ]
    }
   ],
   "source": [
    "print(len(data))"
   ]
  },
  {
   "cell_type": "code",
   "execution_count": 9,
   "id": "892620d9",
   "metadata": {},
   "outputs": [
    {
     "name": "stdout",
     "output_type": "stream",
     "text": [
      "3981333 1339107\n",
      "1339107 1174009\n",
      "1174009 1090399\n",
      "1090399 1064842\n",
      "1064842 1047466\n",
      "1047466 1040488\n",
      "1040488 1035096\n",
      "1035096 1032423\n",
      "1032423 1030382\n",
      "1030382 1029388\n",
      "1029388 1028664\n",
      "1028664 1028354\n",
      "1028354 1028009\n",
      "1028009 1027850\n",
      "1027850 1027679\n",
      "1027679 1027562\n",
      "1027562 1027490\n",
      "1027490 1027472\n",
      "1027472 1027463\n",
      "1027463 1027463\n",
      "1027463 1027463\n",
      "1027463 1027463\n",
      "1027463 1027463\n",
      "1027463 1027463\n",
      "1027463 1027463\n",
      "1027463\n"
     ]
    }
   ],
   "source": [
    "#calculate degree of each user and business, 10-core filtering iteratively\n",
    "k = 10\n",
    "iteration = 25\n",
    "\n",
    "while iteration > 0:\n",
    "    deg_dict_user, deg_dict_business = defaultdict(int), defaultdict(int)\n",
    "    user_set, business_set = set(), set()\n",
    "\n",
    "    for time, user, business in data:\n",
    "        deg_dict_user[user] += 1\n",
    "        deg_dict_business[business] += 1\n",
    "\n",
    "        if deg_dict_user[user] >= k:\n",
    "            user_set.add(user)\n",
    "\n",
    "        if deg_dict_business[business] >= k:\n",
    "            business_set.add(business) \n",
    "\n",
    "    #10-core filtering\n",
    "    filter_data = [[time, user, business] for time, user, business in data if user in user_set and business in business_set]\n",
    "    print(len(data), len(filter_data))\n",
    "    data = filter_data    \n",
    "    iteration -= 1\n",
    "\n",
    "print(len(data))"
   ]
  },
  {
   "cell_type": "code",
   "execution_count": 10,
   "id": "18bed5e2",
   "metadata": {},
   "outputs": [],
   "source": [
    "user_dict, business_dict = {}, {}\n",
    "user_count, business_count = 0, 0\n",
    "new_data = []\n",
    "\n",
    "for time, user, business in data:\n",
    "    if user not in user_dict:\n",
    "        user_dict[user] = user_count\n",
    "        user_count += 1\n",
    "\n",
    "    if business not in business_dict:\n",
    "        business_dict[business] = business_count\n",
    "        business_count += 1\n",
    "\n",
    "    new_data.append([time, user_dict[user], business_dict[business]])\n",
    "\n",
    "data = new_data"
   ]
  },
  {
   "cell_type": "code",
   "execution_count": 11,
   "id": "379c8bc1",
   "metadata": {},
   "outputs": [
    {
     "data": {
      "text/plain": [
       "1027463"
      ]
     },
     "execution_count": 11,
     "metadata": {},
     "output_type": "execute_result"
    }
   ],
   "source": [
    "len(data)"
   ]
  },
  {
   "cell_type": "code",
   "execution_count": 13,
   "id": "1fd47426",
   "metadata": {},
   "outputs": [
    {
     "name": "stdout",
     "output_type": "stream",
     "text": [
      "(797565, 2) (113070, 2) (116828, 2)\n"
     ]
    }
   ],
   "source": [
    "#For each user, split the edges into 8/1/1\n",
    "data = sorted(data)\n",
    "edge_dict_by_user = defaultdict(list)\n",
    "\n",
    "for time, user, business in data:\n",
    "    edge_dict_by_user[user].append(business)\n",
    "\n",
    "def split_train_val(edge_dict_by_user):\n",
    "    train, val, test = [[], []], [[], []], [[], []]\n",
    "\n",
    "    for user in edge_dict_by_user:\n",
    "        edges = edge_dict_by_user[user]\n",
    "    \n",
    "        test_edges = edges[-1*len(edges)//10:]\n",
    "        \n",
    "        train_val_edges = edges[:-1*len(edges)//10]\n",
    "        train_edges = train_val_edges[:8*len(train_val_edges)//9]\n",
    "        val_edges = train_val_edges[8*len(train_val_edges)//9:]\n",
    "        \n",
    "        \n",
    "            \n",
    "        train[0].extend([user]*len(train_edges))\n",
    "        train[1].extend(train_edges)\n",
    "        \n",
    "        val[0].extend([user]*len(val_edges))\n",
    "        val[1].extend(val_edges)\n",
    "        \n",
    "        test[0].extend([user]*len(test_edges))\n",
    "        test[1].extend(test_edges)\n",
    "    \n",
    "    return np.array(train, dtype = int).transpose(1, 0), np.array(val, dtype = int).transpose(1, 0), np.array(test, dtype = int).transpose(1, 0)\n",
    "\n",
    "train, val, test = split_train_val(edge_dict_by_user)\n",
    "\n",
    "train = train[np.argsort(train[:, 0])]\n",
    "val = val[np.argsort(val[:, 0])]\n",
    "test = test[np.argsort(test[:, 0])]\n",
    "print(train.shape, val.shape, test.shape)"
   ]
  },
  {
   "cell_type": "code",
   "execution_count": 14,
   "id": "bb94c904",
   "metadata": {},
   "outputs": [],
   "source": [
    "np.savetxt('./train.txt', train, fmt='%i')\n",
    "np.savetxt('./val.txt', val, fmt='%i')\n",
    "np.savetxt('./test.txt', test, fmt='%i')"
   ]
  },
  {
   "cell_type": "code",
   "execution_count": null,
   "id": "a15e0251",
   "metadata": {},
   "outputs": [],
   "source": []
  }
 ],
 "metadata": {
  "kernelspec": {
   "display_name": "Python 3 (ipykernel)",
   "language": "python",
   "name": "python3"
  },
  "language_info": {
   "codemirror_mode": {
    "name": "ipython",
    "version": 3
   },
   "file_extension": ".py",
   "mimetype": "text/x-python",
   "name": "python",
   "nbconvert_exporter": "python",
   "pygments_lexer": "ipython3",
   "version": "3.8.10"
  }
 },
 "nbformat": 4,
 "nbformat_minor": 5
}
