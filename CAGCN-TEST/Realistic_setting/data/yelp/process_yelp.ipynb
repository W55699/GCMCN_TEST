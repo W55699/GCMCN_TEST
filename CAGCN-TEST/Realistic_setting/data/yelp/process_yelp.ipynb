{
 "cells": [
  {
   "cell_type": "code",
   "execution_count": 12,
   "id": "a426f6fb",
   "metadata": {},
   "outputs": [],
   "source": [
    "from itertools import islice\n",
    "import os\n",
    "from collections import defaultdict\n",
    "import seaborn as sns\n",
    "import numpy as np\n",
    "import torch\n",
    "import json\n",
    "import pandas as pd\n",
    "from datetime import datetime"
   ]
  },
  {
   "cell_type": "code",
   "execution_count": 13,
   "id": "fb94f95e",
   "metadata": {},
   "outputs": [
    {
     "name": "stdout",
     "output_type": "stream",
     "text": [
      "6990280\n"
     ]
    }
   ],
   "source": [
    "data_file = open(\"yelp_academic_dataset_review.json\")\n",
    "data = []\n",
    "\n",
    "user_id_map, business_id_map = {}, {}\n",
    "user_count, business_count = 0, 0\n",
    "\n",
    "stars = []\n",
    "\n",
    "for line in data_file:\n",
    "    sub_data = json.loads(line)\n",
    "    user, business, star, time = sub_data['user_id'], sub_data['business_id'], sub_data['stars'], sub_data['date']\n",
    "    \n",
    "    time = datetime.strptime(time, '%Y-%m-%d %H:%M:%S')\n",
    "    time = datetime.timestamp(time)\n",
    "    \n",
    "    if user not in user_id_map:\n",
    "        user_id_map[user] = user_count\n",
    "        user_count += 1\n",
    "\n",
    "    if business not in business_id_map:\n",
    "        business_id_map[business] = business_count\n",
    "        business_count += 1\n",
    "\n",
    "    data.append([time, user_id_map[user], business_id_map[business], star])\n",
    "    stars.append(star)\n",
    "\n",
    "print(len(data))"
   ]
  },
  {
   "cell_type": "code",
   "execution_count": 14,
   "id": "e350b481",
   "metadata": {},
   "outputs": [
    {
     "name": "stdout",
     "output_type": "stream",
     "text": [
      "[1. 2. 3. 4. 5.]\n"
     ]
    }
   ],
   "source": [
    "#check the unique value of the star\n",
    "print(np.unique(np.array(stars)))"
   ]
  },
  {
   "cell_type": "code",
   "execution_count": 15,
   "id": "08f02e14",
   "metadata": {},
   "outputs": [],
   "source": [
    "new_data = [[time, user, business] for time, user, business, star in data if star >= 4]\n",
    "data = new_data"
   ]
  },
  {
   "cell_type": "code",
   "execution_count": 16,
   "id": "8b32bed9",
   "metadata": {},
   "outputs": [
    {
     "name": "stdout",
     "output_type": "stream",
     "text": [
      "4684545\n"
     ]
    }
   ],
   "source": [
    "print(len(data))"
   ]
  },
  {
   "cell_type": "code",
   "execution_count": 17,
   "id": "096471be",
   "metadata": {},
   "outputs": [
    {
     "name": "stdout",
     "output_type": "stream",
     "text": [
      "4684545 1844827\n",
      "1844827 1629371\n",
      "1629371 1548500\n",
      "1548500 1529233\n",
      "1529233 1520938\n",
      "1520938 1518540\n",
      "1518540 1517454\n",
      "1517454 1517168\n",
      "1517168 1517042\n",
      "1517042 1517024\n",
      "1517024 1517024\n",
      "1517024 1517024\n",
      "1517024 1517024\n",
      "1517024 1517024\n",
      "1517024 1517024\n",
      "1517024 1517024\n",
      "1517024 1517024\n",
      "1517024 1517024\n",
      "1517024 1517024\n",
      "1517024 1517024\n",
      "1517024\n"
     ]
    }
   ],
   "source": [
    "#calculate degree of each user and business, 10-core filtering iteratively\n",
    "k = 10\n",
    "iteration = 20\n",
    "\n",
    "while iteration > 0:\n",
    "    deg_dict_user, deg_dict_business = defaultdict(int), defaultdict(int)\n",
    "    user_set, business_set = set(), set()\n",
    "\n",
    "    for time, user, business in data:\n",
    "        deg_dict_user[user] += 1\n",
    "        deg_dict_business[business] += 1\n",
    "\n",
    "        if deg_dict_user[user] >= k:\n",
    "            user_set.add(user)\n",
    "\n",
    "        if deg_dict_business[business] >= k:\n",
    "            business_set.add(business) \n",
    "\n",
    "    #10-core filtering\n",
    "    filter_data = [[time, user, business] for time, user, business in data if user in user_set and business in business_set]\n",
    "    print(len(data), len(filter_data))\n",
    "    data = filter_data    \n",
    "    iteration -= 1\n",
    "\n",
    "print(len(data))"
   ]
  },
  {
   "cell_type": "code",
   "execution_count": 18,
   "id": "a50d3524",
   "metadata": {},
   "outputs": [],
   "source": [
    "user_dict, business_dict = {}, {}\n",
    "user_count, business_count = 0, 0\n",
    "new_data = []\n",
    "\n",
    "for time, user, business in data:\n",
    "    if user not in user_dict:\n",
    "        user_dict[user] = user_count\n",
    "        user_count += 1\n",
    "\n",
    "    if business not in business_dict:\n",
    "        business_dict[business] = business_count\n",
    "        business_count += 1\n",
    "\n",
    "    new_data.append([time, user_dict[user], business_dict[business]])\n",
    "\n",
    "data = new_data"
   ]
  },
  {
   "cell_type": "code",
   "execution_count": 19,
   "id": "81435112",
   "metadata": {},
   "outputs": [
    {
     "data": {
      "text/plain": [
       "1517024"
      ]
     },
     "execution_count": 19,
     "metadata": {},
     "output_type": "execute_result"
    }
   ],
   "source": [
    "len(data)"
   ]
  },
  {
   "cell_type": "code",
   "execution_count": 20,
   "id": "a0c044d4",
   "metadata": {},
   "outputs": [
    {
     "name": "stdout",
     "output_type": "stream",
     "text": [
      "(1166918, 2) (170767, 2) (179339, 2)\n"
     ]
    }
   ],
   "source": [
    "#For each user, split the edges into 8/1/1\n",
    "data = sorted(data)\n",
    "edge_dict_by_user = defaultdict(list)\n",
    "\n",
    "for time, user, business in data:\n",
    "    edge_dict_by_user[user].append(business)\n",
    "\n",
    "def split_train_val(edge_dict_by_user):\n",
    "    train, val, test = [[], []], [[], []], [[], []]\n",
    "\n",
    "    for user in edge_dict_by_user:\n",
    "        edges = edge_dict_by_user[user]\n",
    "        \n",
    "        test_edges = edges[-1*len(edges)//10:]\n",
    "        \n",
    "        train_val_edges = edges[:-1*len(edges)//10]\n",
    "        train_edges = train_val_edges[:8*len(train_val_edges)//9]\n",
    "        val_edges = train_val_edges[8*len(train_val_edges)//9:]\n",
    "            \n",
    "        train[0].extend([user]*len(train_edges))\n",
    "        train[1].extend(train_edges)\n",
    "        \n",
    "        val[0].extend([user]*len(val_edges))\n",
    "        val[1].extend(val_edges)\n",
    "        \n",
    "        test[0].extend([user]*len(test_edges))\n",
    "        test[1].extend(test_edges)\n",
    "    \n",
    "    return np.array(train, dtype = int).transpose(1, 0), np.array(val, dtype = int).transpose(1, 0), np.array(test, dtype = int).transpose(1, 0)\n",
    "\n",
    "train, val, test = split_train_val(edge_dict_by_user)\n",
    "print(train.shape, val.shape, test.shape)"
   ]
  },
  {
   "cell_type": "code",
   "execution_count": 21,
   "id": "85301869",
   "metadata": {},
   "outputs": [],
   "source": [
    "np.savetxt('./train.txt', train, fmt='%i')\n",
    "np.savetxt('./val.txt', val, fmt='%i')\n",
    "np.savetxt('./test.txt', test, fmt='%i')"
   ]
  },
  {
   "cell_type": "code",
   "execution_count": null,
   "id": "54115206",
   "metadata": {},
   "outputs": [],
   "source": []
  }
 ],
 "metadata": {
  "kernelspec": {
   "display_name": "Python 3 (ipykernel)",
   "language": "python",
   "name": "python3"
  },
  "language_info": {
   "codemirror_mode": {
    "name": "ipython",
    "version": 3
   },
   "file_extension": ".py",
   "mimetype": "text/x-python",
   "name": "python",
   "nbconvert_exporter": "python",
   "pygments_lexer": "ipython3",
   "version": "3.8.10"
  }
 },
 "nbformat": 4,
 "nbformat_minor": 5
}
